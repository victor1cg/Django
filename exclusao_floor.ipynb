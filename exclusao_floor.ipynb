{
 "cells": [
  {
   "cell_type": "markdown",
   "metadata": {},
   "source": [
    "### EXCLUSÃO DE FLOOR SPACE\n",
    "\n",
    "Script desenvolvido para realizar o a exclusão das tarefas duplicadas por loja.  \n",
    "Necessario carregar a lista com o id da tarefa a ser excluido. \n",
    "\n",
    "--  \n",
    "Victor Gonçalves  \n",
    "31/01/2023"
   ]
  },
  {
   "cell_type": "code",
   "execution_count": null,
   "metadata": {},
   "outputs": [],
   "source": [
    "import pandas as pd\n",
    "\n",
    "from selenium import webdriver\n",
    "from selenium.webdriver.chrome.service import Service as ChromeService\n",
    "from webdriver_manager.chrome import ChromeDriverManager\n",
    "from selenium.webdriver.chrome.options import Options\n",
    "from selenium.webdriver.common.by import By\n",
    "\n",
    "from time import sleep"
   ]
  },
  {
   "cell_type": "code",
   "execution_count": null,
   "metadata": {},
   "outputs": [],
   "source": [
    "# Carregar o documento local;\n",
    "path = r'00_-_Floor_Space_(Novo).csv'\n",
    "\n",
    "#Salvar a lista na Sheet 2;\n",
    "lista_tarefas = pd.read_csv(path,sep = ';', header= 0)"
   ]
  },
  {
   "cell_type": "code",
   "execution_count": null,
   "metadata": {},
   "outputs": [],
   "source": [
    "# 0- Iniciar e atualizar o webdriver\n",
    "chrome_options = Options()\n",
    "driver = webdriver.Chrome(service=ChromeService(ChromeDriverManager().install()), options=chrome_options)"
   ]
  },
  {
   "cell_type": "code",
   "execution_count": 27,
   "metadata": {},
   "outputs": [
    {
     "ename": "AttributeError",
     "evalue": "'WebDriver' object has no attribute 'find_element_by_id'",
     "output_type": "error",
     "traceback": [
      "\u001b[1;31m---------------------------------------------------------------------------\u001b[0m",
      "\u001b[1;31mAttributeError\u001b[0m                            Traceback (most recent call last)",
      "Cell \u001b[1;32mIn [27], line 12\u001b[0m\n\u001b[0;32m      6\u001b[0m sleep(\u001b[38;5;241m5\u001b[39m)\n\u001b[0;32m      8\u001b[0m \u001b[38;5;66;03m# 2 - Logar\u001b[39;00m\n\u001b[0;32m      9\u001b[0m \n\u001b[0;32m     10\u001b[0m \u001b[38;5;66;03m# 2.1 - Encontrar elemento pelo id\u001b[39;00m\n\u001b[0;32m     11\u001b[0m \u001b[38;5;66;03m# campo_email = driver.find_element(By.XPATH,'//*[@id=\"Email\"]')\u001b[39;00m\n\u001b[1;32m---> 12\u001b[0m campo_email \u001b[38;5;241m=\u001b[39m \u001b[43mdriver\u001b[49m\u001b[38;5;241;43m.\u001b[39;49m\u001b[43mfind_element_by_id\u001b[49m(\u001b[38;5;124m'\u001b[39m\u001b[38;5;124mEmail\u001b[39m\u001b[38;5;124m'\u001b[39m)\n\u001b[0;32m     13\u001b[0m sleep(\u001b[38;5;241m2\u001b[39m)\n\u001b[0;32m     14\u001b[0m campo_email\u001b[38;5;241m.\u001b[39mclick()\n",
      "\u001b[1;31mAttributeError\u001b[0m: 'WebDriver' object has no attribute 'find_element_by_id'"
     ]
    }
   ],
   "source": [
    "chrome_options = Options()\n",
    "driver = webdriver.Chrome(service=ChromeService(ChromeDriverManager().install()), options=chrome_options)\n",
    "\n",
    "# 1 - Navegar até a pagina\n",
    "driver.get(\"https://eluxbi.zohocreatorportal.com/\")\n",
    "sleep(5)\n",
    "\n",
    "# 2 - Logar\n",
    "\n",
    "# 2.1 - Encontrar elemento pelo id\n",
    "# campo_email = driver.find_element(By.XPATH,'//*[@id=\"Email\"]')\n",
    "campo_email = driver.find_element(By.ID,value='Email')\n",
    "sleep(2)\n",
    "campo_email.click()\n",
    "login = 'businessintelligence@electrolux.com'\n",
    "campo_email.send_keys(login)\n",
    "sleep(2)\n",
    "\n",
    "campo_senha = driver.find_element(By.ID,'Password')\n",
    "campo_senha.click()\n",
    "password = 'elux#1674bi'\n",
    "campo_senha.send_keys(password)\n",
    "sleep(2)\n",
    "\n",
    "campo_entrar = driver.find_element(By.XPATH,'//*[@id=\"signinForm\"]/div[6]/input')\n",
    "campo_entrar.click()\n",
    "\n",
    "\n",
    "input()\n",
    "driver.close()"
   ]
  },
  {
   "cell_type": "code",
   "execution_count": null,
   "metadata": {},
   "outputs": [],
   "source": [
    "driver.get('https://pt.wikipedia.org/wiki/Brasil')\n",
    "\n",
    "input('aperta uma tecla para fechar')"
   ]
  }
 ],
 "metadata": {
  "kernelspec": {
   "display_name": "Python 3.9.13 64-bit",
   "language": "python",
   "name": "python3"
  },
  "language_info": {
   "codemirror_mode": {
    "name": "ipython",
    "version": 3
   },
   "file_extension": ".py",
   "mimetype": "text/x-python",
   "name": "python",
   "nbconvert_exporter": "python",
   "pygments_lexer": "ipython3",
   "version": "3.9.13"
  },
  "orig_nbformat": 4,
  "vscode": {
   "interpreter": {
    "hash": "3f87adfe6a5180f0a30c05d11533ceece4e1801d94a6f872d0bfa584051c48ab"
   }
  }
 },
 "nbformat": 4,
 "nbformat_minor": 2
}
