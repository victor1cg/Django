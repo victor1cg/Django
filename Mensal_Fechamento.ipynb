{
 "cells": [
  {
   "cell_type": "markdown",
   "metadata": {},
   "source": [
    "### Script para o Fechamento\n",
    "\n",
    "Tratar os dados de fechamento para realizar a carga no OneIT.  \n",
    "\n",
    "-- Criado por Victor Gonçalves  \n",
    "-- 04/01/2022\n",
    "\n",
    "--------  \n",
    "\n",
    "Muito CUIDADO com o mês na tabela final, se não substitui tudo no ONEIT;  \n",
    "A chave é o mês, se subir 1 dia do mês de 1 cliente, substitui todo aquele mês;\n",
    "\n",
    "\n",
    "Sempre SUBIR SOMENTE O FECHADO/ SOMENTE PREVIA (Depende qual estiver fazendo);\n",
    "1. Da coluna A>J não pode ter blank.\n",
    "2. Estoque e SELL OUT trocar ZERO > Blank;\n",
    "3. FAZER UM PROCV COM O MASTERDATA IBP;    **Realizado no EXCEL**  \n",
    "\t00. POWER BI\\00. PBIX\\000. DE-PARA  \n",
    "4. Realizar Dinamica para retirar itens repetidos.\n",
    "5. COLUNAS  - Sempre Title;\n",
    "\n",
    "#### SCHEMA\n",
    "Subir a tabela preenchida, para que o script faça realize o ETL.\n",
    "\n",
    "Periodo | CNPJ | Modelo | Loja | Varejo | Bandeira | Cidade | Estado | GrupoProduto | EAN | QtVenda| QtEstoque  | QtDiasEstoque\n"
   ]
  },
  {
   "cell_type": "code",
   "execution_count": 38,
   "metadata": {},
   "outputs": [],
   "source": [
    "import pandas as pd\n",
    "import numpy as np"
   ]
  },
  {
   "cell_type": "code",
   "execution_count": 8,
   "metadata": {},
   "outputs": [],
   "source": [
    "df_inicial = pd.read_excel(\"Template Input - VScode.xlsx\")"
   ]
  },
  {
   "cell_type": "code",
   "execution_count": 3,
   "metadata": {},
   "outputs": [],
   "source": [
    "# Não sera necessario\n",
    "# LISTA DE CATEGORIAS\n",
    "\n",
    "GrupoProduto = ['Adega','Air Fryer','Ar Condicionado','Aspirador','Batedeira','Bebedouro Água','Cafeteira',\n",
    "'Cervejeira','Chaleira','Climatizador','Coifa','Cooktop','Depurador','Ferro','Fogão',\n",
    "'Forno de Bancada','Forno de Embutir','Freezer Horizontal','Freezer Vertical','Front Load',\n",
    "'Lavadora de Alta Pressão','Lavadora de Roupas','Lava-Louças','Liquidificador','Micro-ondas','Mixer',\n",
    "'Panela Elétrica','Processador de Alimentos','Purificador de Água','Refrigerador','Secadora','Torradeira',\n",
    "'Umidificador de Ar','Vaporizador de Pisos']"
   ]
  },
  {
   "cell_type": "code",
   "execution_count": 70,
   "metadata": {},
   "outputs": [
    {
     "data": {
      "text/plain": [
       "array(['Allied', 'Amazon', 'Angeloni', 'B2W', 'Becker', 'Bemol', 'Benoit',\n",
       "       'Berlanda', 'Big', 'Camicado', 'Canal Direto', 'Carrefour',\n",
       "       'Carrefour.com', 'Casa E Video', 'Claudino', 'Colombo',\n",
       "       'Colombo.com', 'Comprebel', 'Condor', 'Domestilar',\n",
       "       'Eletro Matheus', 'Eletrosom', 'Eletrozema', 'Estrela',\n",
       "       'Fast Shop', 'Fast Shop.com', 'Formosa', 'Frio Peças',\n",
       "       'G. Barbosa', 'Gazin', 'Havan', 'Horfran', 'Império', 'Info Store',\n",
       "       'Infoar', 'Koerich', 'Leroy Merlin', 'Lojas Cem', 'Lojas Guaibim',\n",
       "       'Líder', 'Magazine Liliani', 'Magazine Luiza',\n",
       "       'Magazine Luiza.com', 'Martinello', 'Martins', 'Master',\n",
       "       'Mercado Livre', 'Mercadomóveis', 'Millena', 'Moveis Linhares',\n",
       "       'Muffato', 'Nosso Lar', 'Novo Mundo', 'Novo Mundo.com',\n",
       "       'Pernambucanas', 'Pintos', 'Polishop', 'Quero-Quero', 'Ramsons',\n",
       "       'Rcell', 'Sams Club', 'Simonetti', 'Sipolatti', 'Tv Lar',\n",
       "       'Venda Direta', 'Via Varejo', 'Via Varejo.com', 'Zenir'],\n",
       "      dtype=object)"
      ]
     },
     "execution_count": 70,
     "metadata": {},
     "output_type": "execute_result"
    }
   ],
   "source": [
    "a = df_inicial['CNPJ'].unique()\n",
    "a.sort()\n",
    "a\n",
    "# #----------\n",
    "# df_inicial.info()\n",
    "# #----------\n",
    "# df_inicial.columns"
   ]
  },
  {
   "cell_type": "code",
   "execution_count": 35,
   "metadata": {},
   "outputs": [
    {
     "name": "stderr",
     "output_type": "stream",
     "text": [
      "C:\\Users\\goncavic01\\AppData\\Local\\Temp\\ipykernel_14800\\240048291.py:5: FutureWarning: The default value of regex will change from True to False in a future version.\n",
      "  df_inicial[i] = df_inicial[i].str.replace('.Com','.com')\n"
     ]
    }
   ],
   "source": [
    "#AJUSTANDO O NOME DOS VAREJOS\n",
    "\n",
    "col = ['CNPJ','Loja', 'Varejo', 'Bandeira','Estado']\n",
    "\n",
    "for i in col:\n",
    "    df_inicial[i] = df_inicial[i].str.title()\n",
    "    df_inicial[i] = df_inicial[i].str.replace('.Com','.com')\n",
    "    df_inicial[i] = df_inicial[i].str.replace('Friopeças','Frio Peças')\n",
    "    # df_inicial[i] = df_inicial[i].str.replace('COOP','Cooperativa de Consumo...')\n"
   ]
  },
  {
   "cell_type": "code",
   "execution_count": 47,
   "metadata": {},
   "outputs": [
    {
     "ename": "KeyError",
     "evalue": "\"['CHECK_IBP'] not found in axis\"",
     "output_type": "error",
     "traceback": [
      "\u001b[1;31m---------------------------------------------------------------------------\u001b[0m",
      "\u001b[1;31mKeyError\u001b[0m                                  Traceback (most recent call last)",
      "Cell \u001b[1;32mIn [47], line 3\u001b[0m\n\u001b[0;32m      1\u001b[0m \u001b[38;5;66;03m#AGRUPANDO OS VALORES\u001b[39;00m\n\u001b[1;32m----> 3\u001b[0m df_inicial \u001b[38;5;241m=\u001b[39m \u001b[43mdf_inicial\u001b[49m\u001b[38;5;241;43m.\u001b[39;49m\u001b[43mdrop\u001b[49m\u001b[43m(\u001b[49m\u001b[43m[\u001b[49m\u001b[38;5;124;43m'\u001b[39;49m\u001b[38;5;124;43mCHECK_IBP\u001b[39;49m\u001b[38;5;124;43m'\u001b[39;49m\u001b[43m]\u001b[49m\u001b[43m,\u001b[49m\u001b[43maxis\u001b[49m\u001b[38;5;241;43m=\u001b[39;49m\u001b[38;5;241;43m1\u001b[39;49m\u001b[43m)\u001b[49m\n\u001b[0;32m      4\u001b[0m df_inicial\u001b[38;5;241m.\u001b[39mcolumns\n",
      "File \u001b[1;32mc:\\Users\\goncavic01\\AppData\\Local\\Programs\\Python\\Python39\\lib\\site-packages\\pandas\\util\\_decorators.py:311\u001b[0m, in \u001b[0;36mdeprecate_nonkeyword_arguments.<locals>.decorate.<locals>.wrapper\u001b[1;34m(*args, **kwargs)\u001b[0m\n\u001b[0;32m    305\u001b[0m \u001b[39mif\u001b[39;00m \u001b[39mlen\u001b[39m(args) \u001b[39m>\u001b[39m num_allow_args:\n\u001b[0;32m    306\u001b[0m     warnings\u001b[39m.\u001b[39mwarn(\n\u001b[0;32m    307\u001b[0m         msg\u001b[39m.\u001b[39mformat(arguments\u001b[39m=\u001b[39marguments),\n\u001b[0;32m    308\u001b[0m         \u001b[39mFutureWarning\u001b[39;00m,\n\u001b[0;32m    309\u001b[0m         stacklevel\u001b[39m=\u001b[39mstacklevel,\n\u001b[0;32m    310\u001b[0m     )\n\u001b[1;32m--> 311\u001b[0m \u001b[39mreturn\u001b[39;00m func(\u001b[39m*\u001b[39margs, \u001b[39m*\u001b[39m\u001b[39m*\u001b[39mkwargs)\n",
      "File \u001b[1;32mc:\\Users\\goncavic01\\AppData\\Local\\Programs\\Python\\Python39\\lib\\site-packages\\pandas\\core\\frame.py:4957\u001b[0m, in \u001b[0;36mDataFrame.drop\u001b[1;34m(self, labels, axis, index, columns, level, inplace, errors)\u001b[0m\n\u001b[0;32m   4809\u001b[0m \u001b[39m@deprecate_nonkeyword_arguments\u001b[39m(version\u001b[39m=\u001b[39m\u001b[39mNone\u001b[39;00m, allowed_args\u001b[39m=\u001b[39m[\u001b[39m\"\u001b[39m\u001b[39mself\u001b[39m\u001b[39m\"\u001b[39m, \u001b[39m\"\u001b[39m\u001b[39mlabels\u001b[39m\u001b[39m\"\u001b[39m])\n\u001b[0;32m   4810\u001b[0m \u001b[39mdef\u001b[39;00m \u001b[39mdrop\u001b[39m(\n\u001b[0;32m   4811\u001b[0m     \u001b[39mself\u001b[39m,\n\u001b[1;32m   (...)\u001b[0m\n\u001b[0;32m   4818\u001b[0m     errors: \u001b[39mstr\u001b[39m \u001b[39m=\u001b[39m \u001b[39m\"\u001b[39m\u001b[39mraise\u001b[39m\u001b[39m\"\u001b[39m,\n\u001b[0;32m   4819\u001b[0m ):\n\u001b[0;32m   4820\u001b[0m     \u001b[39m\"\"\"\u001b[39;00m\n\u001b[0;32m   4821\u001b[0m \u001b[39m    Drop specified labels from rows or columns.\u001b[39;00m\n\u001b[0;32m   4822\u001b[0m \n\u001b[1;32m   (...)\u001b[0m\n\u001b[0;32m   4955\u001b[0m \u001b[39m            weight  1.0     0.8\u001b[39;00m\n\u001b[0;32m   4956\u001b[0m \u001b[39m    \"\"\"\u001b[39;00m\n\u001b[1;32m-> 4957\u001b[0m     \u001b[39mreturn\u001b[39;00m \u001b[39msuper\u001b[39;49m()\u001b[39m.\u001b[39;49mdrop(\n\u001b[0;32m   4958\u001b[0m         labels\u001b[39m=\u001b[39;49mlabels,\n\u001b[0;32m   4959\u001b[0m         axis\u001b[39m=\u001b[39;49maxis,\n\u001b[0;32m   4960\u001b[0m         index\u001b[39m=\u001b[39;49mindex,\n\u001b[0;32m   4961\u001b[0m         columns\u001b[39m=\u001b[39;49mcolumns,\n\u001b[0;32m   4962\u001b[0m         level\u001b[39m=\u001b[39;49mlevel,\n\u001b[0;32m   4963\u001b[0m         inplace\u001b[39m=\u001b[39;49minplace,\n\u001b[0;32m   4964\u001b[0m         errors\u001b[39m=\u001b[39;49merrors,\n\u001b[0;32m   4965\u001b[0m     )\n",
      "File \u001b[1;32mc:\\Users\\goncavic01\\AppData\\Local\\Programs\\Python\\Python39\\lib\\site-packages\\pandas\\core\\generic.py:4267\u001b[0m, in \u001b[0;36mNDFrame.drop\u001b[1;34m(self, labels, axis, index, columns, level, inplace, errors)\u001b[0m\n\u001b[0;32m   4265\u001b[0m \u001b[39mfor\u001b[39;00m axis, labels \u001b[39min\u001b[39;00m axes\u001b[39m.\u001b[39mitems():\n\u001b[0;32m   4266\u001b[0m     \u001b[39mif\u001b[39;00m labels \u001b[39mis\u001b[39;00m \u001b[39mnot\u001b[39;00m \u001b[39mNone\u001b[39;00m:\n\u001b[1;32m-> 4267\u001b[0m         obj \u001b[39m=\u001b[39m obj\u001b[39m.\u001b[39;49m_drop_axis(labels, axis, level\u001b[39m=\u001b[39;49mlevel, errors\u001b[39m=\u001b[39;49merrors)\n\u001b[0;32m   4269\u001b[0m \u001b[39mif\u001b[39;00m inplace:\n\u001b[0;32m   4270\u001b[0m     \u001b[39mself\u001b[39m\u001b[39m.\u001b[39m_update_inplace(obj)\n",
      "File \u001b[1;32mc:\\Users\\goncavic01\\AppData\\Local\\Programs\\Python\\Python39\\lib\\site-packages\\pandas\\core\\generic.py:4311\u001b[0m, in \u001b[0;36mNDFrame._drop_axis\u001b[1;34m(self, labels, axis, level, errors, consolidate, only_slice)\u001b[0m\n\u001b[0;32m   4309\u001b[0m         new_axis \u001b[39m=\u001b[39m axis\u001b[39m.\u001b[39mdrop(labels, level\u001b[39m=\u001b[39mlevel, errors\u001b[39m=\u001b[39merrors)\n\u001b[0;32m   4310\u001b[0m     \u001b[39melse\u001b[39;00m:\n\u001b[1;32m-> 4311\u001b[0m         new_axis \u001b[39m=\u001b[39m axis\u001b[39m.\u001b[39;49mdrop(labels, errors\u001b[39m=\u001b[39;49merrors)\n\u001b[0;32m   4312\u001b[0m     indexer \u001b[39m=\u001b[39m axis\u001b[39m.\u001b[39mget_indexer(new_axis)\n\u001b[0;32m   4314\u001b[0m \u001b[39m# Case for non-unique axis\u001b[39;00m\n\u001b[0;32m   4315\u001b[0m \u001b[39melse\u001b[39;00m:\n",
      "File \u001b[1;32mc:\\Users\\goncavic01\\AppData\\Local\\Programs\\Python\\Python39\\lib\\site-packages\\pandas\\core\\indexes\\base.py:6661\u001b[0m, in \u001b[0;36mIndex.drop\u001b[1;34m(self, labels, errors)\u001b[0m\n\u001b[0;32m   6659\u001b[0m \u001b[39mif\u001b[39;00m mask\u001b[39m.\u001b[39many():\n\u001b[0;32m   6660\u001b[0m     \u001b[39mif\u001b[39;00m errors \u001b[39m!=\u001b[39m \u001b[39m\"\u001b[39m\u001b[39mignore\u001b[39m\u001b[39m\"\u001b[39m:\n\u001b[1;32m-> 6661\u001b[0m         \u001b[39mraise\u001b[39;00m \u001b[39mKeyError\u001b[39;00m(\u001b[39mf\u001b[39m\u001b[39m\"\u001b[39m\u001b[39m{\u001b[39;00m\u001b[39mlist\u001b[39m(labels[mask])\u001b[39m}\u001b[39;00m\u001b[39m not found in axis\u001b[39m\u001b[39m\"\u001b[39m)\n\u001b[0;32m   6662\u001b[0m     indexer \u001b[39m=\u001b[39m indexer[\u001b[39m~\u001b[39mmask]\n\u001b[0;32m   6663\u001b[0m \u001b[39mreturn\u001b[39;00m \u001b[39mself\u001b[39m\u001b[39m.\u001b[39mdelete(indexer)\n",
      "\u001b[1;31mKeyError\u001b[0m: \"['CHECK_IBP'] not found in axis\""
     ]
    }
   ],
   "source": [
    "#DROP COLUNA MASTER DATA\n",
    "df_inicial = df_inicial.drop(['CHECK_IBP'],axis=1)\n",
    "# df_inicial.columns"
   ]
  },
  {
   "cell_type": "code",
   "execution_count": 48,
   "metadata": {},
   "outputs": [
    {
     "data": {
      "text/plain": [
       "Index(['Periodo', 'CNPJ', 'Modelo', 'Loja', 'Varejo', 'Bandeira', 'Cidade',\n",
       "       'Estado', 'GrupoProduto', 'EAN', 'QtVenda', 'QtEstoque',\n",
       "       'QtDiasEstoque'],\n",
       "      dtype='object')"
      ]
     },
     "execution_count": 48,
     "metadata": {},
     "output_type": "execute_result"
    }
   ],
   "source": [
    "df_inicial.columns"
   ]
  },
  {
   "cell_type": "code",
   "execution_count": 66,
   "metadata": {},
   "outputs": [],
   "source": [
    "#AGRUPANDO OS VALORES. \n",
    "# as_index = False permite repetir valores\n",
    "# .agg > permite um dicionario das colunas para função.\n",
    "\n",
    "df_final = df_inicial.groupby(['Periodo', 'CNPJ', 'Modelo', 'Loja', 'Varejo', 'Bandeira',\n",
    " 'Cidade','Estado', 'GrupoProduto','EAN'], as_index = False).agg({'QtVenda': 'sum', 'QtEstoque': 'sum'})\n",
    " \n",
    "#  ['QtVenda'].sum()"
   ]
  },
  {
   "cell_type": "code",
   "execution_count": 67,
   "metadata": {},
   "outputs": [],
   "source": [
    "#TROCAR ZEROS POR NAN\n",
    "df_final['QtVenda'].replace(0,np.nan, inplace=True)\n",
    "df_final['QtEstoque'].replace(0,np.nan, inplace=True)"
   ]
  },
  {
   "cell_type": "code",
   "execution_count": 68,
   "metadata": {},
   "outputs": [],
   "source": [
    "#AJUSTANDO COLUNA DE DATA\n",
    "df_final['Periodo'] = df_final['Periodo'].dt.strftime('%d/%m/%Y')"
   ]
  },
  {
   "cell_type": "code",
   "execution_count": 69,
   "metadata": {},
   "outputs": [
    {
     "data": {
      "text/html": [
       "<div>\n",
       "<style scoped>\n",
       "    .dataframe tbody tr th:only-of-type {\n",
       "        vertical-align: middle;\n",
       "    }\n",
       "\n",
       "    .dataframe tbody tr th {\n",
       "        vertical-align: top;\n",
       "    }\n",
       "\n",
       "    .dataframe thead th {\n",
       "        text-align: right;\n",
       "    }\n",
       "</style>\n",
       "<table border=\"1\" class=\"dataframe\">\n",
       "  <thead>\n",
       "    <tr style=\"text-align: right;\">\n",
       "      <th></th>\n",
       "      <th>Periodo</th>\n",
       "      <th>CNPJ</th>\n",
       "      <th>Modelo</th>\n",
       "      <th>Loja</th>\n",
       "      <th>Varejo</th>\n",
       "      <th>Bandeira</th>\n",
       "      <th>Cidade</th>\n",
       "      <th>Estado</th>\n",
       "      <th>GrupoProduto</th>\n",
       "      <th>EAN</th>\n",
       "      <th>QtVenda</th>\n",
       "      <th>QtEstoque</th>\n",
       "    </tr>\n",
       "  </thead>\n",
       "  <tbody>\n",
       "    <tr>\n",
       "      <th>0</th>\n",
       "      <td>01/12/2022</td>\n",
       "      <td>Allied</td>\n",
       "      <td>AQP20</td>\n",
       "      <td>Allied</td>\n",
       "      <td>Allied</td>\n",
       "      <td>Allied</td>\n",
       "      <td>ELECTROLUX</td>\n",
       "      <td>Allied</td>\n",
       "      <td>Aspirador</td>\n",
       "      <td>AQP20</td>\n",
       "      <td>1.0</td>\n",
       "      <td>38.0</td>\n",
       "    </tr>\n",
       "    <tr>\n",
       "      <th>1</th>\n",
       "      <td>01/12/2022</td>\n",
       "      <td>Allied</td>\n",
       "      <td>AWD01</td>\n",
       "      <td>Allied</td>\n",
       "      <td>Allied</td>\n",
       "      <td>Allied</td>\n",
       "      <td>ELECTROLUX</td>\n",
       "      <td>Allied</td>\n",
       "      <td>Aspirador</td>\n",
       "      <td>AWD01</td>\n",
       "      <td>NaN</td>\n",
       "      <td>3.0</td>\n",
       "    </tr>\n",
       "    <tr>\n",
       "      <th>2</th>\n",
       "      <td>01/12/2022</td>\n",
       "      <td>Allied</td>\n",
       "      <td>BLP70</td>\n",
       "      <td>Allied</td>\n",
       "      <td>Allied</td>\n",
       "      <td>Allied</td>\n",
       "      <td>ELECTROLUX</td>\n",
       "      <td>Allied</td>\n",
       "      <td>Liquidificador</td>\n",
       "      <td>BLP70</td>\n",
       "      <td>1.0</td>\n",
       "      <td>NaN</td>\n",
       "    </tr>\n",
       "    <tr>\n",
       "      <th>3</th>\n",
       "      <td>01/12/2022</td>\n",
       "      <td>Allied</td>\n",
       "      <td>CMP70</td>\n",
       "      <td>Allied</td>\n",
       "      <td>Allied</td>\n",
       "      <td>Allied</td>\n",
       "      <td>ELECTROLUX</td>\n",
       "      <td>Allied</td>\n",
       "      <td>Cafeteira</td>\n",
       "      <td>CMP70</td>\n",
       "      <td>4.0</td>\n",
       "      <td>NaN</td>\n",
       "    </tr>\n",
       "    <tr>\n",
       "      <th>4</th>\n",
       "      <td>01/12/2022</td>\n",
       "      <td>Allied</td>\n",
       "      <td>EAF10</td>\n",
       "      <td>Allied</td>\n",
       "      <td>Allied</td>\n",
       "      <td>Allied</td>\n",
       "      <td>ELECTROLUX</td>\n",
       "      <td>Allied</td>\n",
       "      <td>Air Fryer</td>\n",
       "      <td>EAF10</td>\n",
       "      <td>6.0</td>\n",
       "      <td>4.0</td>\n",
       "    </tr>\n",
       "    <tr>\n",
       "      <th>...</th>\n",
       "      <td>...</td>\n",
       "      <td>...</td>\n",
       "      <td>...</td>\n",
       "      <td>...</td>\n",
       "      <td>...</td>\n",
       "      <td>...</td>\n",
       "      <td>...</td>\n",
       "      <td>...</td>\n",
       "      <td>...</td>\n",
       "      <td>...</td>\n",
       "      <td>...</td>\n",
       "      <td>...</td>\n",
       "    </tr>\n",
       "    <tr>\n",
       "      <th>6220</th>\n",
       "      <td>01/12/2022</td>\n",
       "      <td>Zenir</td>\n",
       "      <td>TC56S</td>\n",
       "      <td>Zenir</td>\n",
       "      <td>Zenir</td>\n",
       "      <td>Zenir</td>\n",
       "      <td>ELECTROLUX</td>\n",
       "      <td>Zenir</td>\n",
       "      <td>Refrigerador</td>\n",
       "      <td>TC56S</td>\n",
       "      <td>7.0</td>\n",
       "      <td>7.0</td>\n",
       "    </tr>\n",
       "    <tr>\n",
       "      <th>6221</th>\n",
       "      <td>01/12/2022</td>\n",
       "      <td>Zenir</td>\n",
       "      <td>TF39</td>\n",
       "      <td>Zenir</td>\n",
       "      <td>Zenir</td>\n",
       "      <td>Zenir</td>\n",
       "      <td>ELECTROLUX</td>\n",
       "      <td>Zenir</td>\n",
       "      <td>Refrigerador</td>\n",
       "      <td>TF39</td>\n",
       "      <td>27.0</td>\n",
       "      <td>353.0</td>\n",
       "    </tr>\n",
       "    <tr>\n",
       "      <th>6222</th>\n",
       "      <td>01/12/2022</td>\n",
       "      <td>Zenir</td>\n",
       "      <td>TF39S</td>\n",
       "      <td>Zenir</td>\n",
       "      <td>Zenir</td>\n",
       "      <td>Zenir</td>\n",
       "      <td>ELECTROLUX</td>\n",
       "      <td>Zenir</td>\n",
       "      <td>Refrigerador</td>\n",
       "      <td>TF39S</td>\n",
       "      <td>7.0</td>\n",
       "      <td>79.0</td>\n",
       "    </tr>\n",
       "    <tr>\n",
       "      <th>6223</th>\n",
       "      <td>01/12/2022</td>\n",
       "      <td>Zenir</td>\n",
       "      <td>TF55</td>\n",
       "      <td>Zenir</td>\n",
       "      <td>Zenir</td>\n",
       "      <td>Zenir</td>\n",
       "      <td>ELECTROLUX</td>\n",
       "      <td>Zenir</td>\n",
       "      <td>Refrigerador</td>\n",
       "      <td>TF55</td>\n",
       "      <td>9.0</td>\n",
       "      <td>44.0</td>\n",
       "    </tr>\n",
       "    <tr>\n",
       "      <th>6224</th>\n",
       "      <td>01/12/2022</td>\n",
       "      <td>Zenir</td>\n",
       "      <td>TF55S</td>\n",
       "      <td>Zenir</td>\n",
       "      <td>Zenir</td>\n",
       "      <td>Zenir</td>\n",
       "      <td>ELECTROLUX</td>\n",
       "      <td>Zenir</td>\n",
       "      <td>Refrigerador</td>\n",
       "      <td>TF55S</td>\n",
       "      <td>17.0</td>\n",
       "      <td>51.0</td>\n",
       "    </tr>\n",
       "  </tbody>\n",
       "</table>\n",
       "<p>6225 rows × 12 columns</p>\n",
       "</div>"
      ],
      "text/plain": [
       "         Periodo    CNPJ Modelo    Loja  Varejo Bandeira      Cidade  Estado  \\\n",
       "0     01/12/2022  Allied  AQP20  Allied  Allied   Allied  ELECTROLUX  Allied   \n",
       "1     01/12/2022  Allied  AWD01  Allied  Allied   Allied  ELECTROLUX  Allied   \n",
       "2     01/12/2022  Allied  BLP70  Allied  Allied   Allied  ELECTROLUX  Allied   \n",
       "3     01/12/2022  Allied  CMP70  Allied  Allied   Allied  ELECTROLUX  Allied   \n",
       "4     01/12/2022  Allied  EAF10  Allied  Allied   Allied  ELECTROLUX  Allied   \n",
       "...          ...     ...    ...     ...     ...      ...         ...     ...   \n",
       "6220  01/12/2022   Zenir  TC56S   Zenir   Zenir    Zenir  ELECTROLUX   Zenir   \n",
       "6221  01/12/2022   Zenir   TF39   Zenir   Zenir    Zenir  ELECTROLUX   Zenir   \n",
       "6222  01/12/2022   Zenir  TF39S   Zenir   Zenir    Zenir  ELECTROLUX   Zenir   \n",
       "6223  01/12/2022   Zenir   TF55   Zenir   Zenir    Zenir  ELECTROLUX   Zenir   \n",
       "6224  01/12/2022   Zenir  TF55S   Zenir   Zenir    Zenir  ELECTROLUX   Zenir   \n",
       "\n",
       "        GrupoProduto    EAN  QtVenda  QtEstoque  \n",
       "0          Aspirador  AQP20      1.0       38.0  \n",
       "1          Aspirador  AWD01      NaN        3.0  \n",
       "2     Liquidificador  BLP70      1.0        NaN  \n",
       "3          Cafeteira  CMP70      4.0        NaN  \n",
       "4          Air Fryer  EAF10      6.0        4.0  \n",
       "...              ...    ...      ...        ...  \n",
       "6220    Refrigerador  TC56S      7.0        7.0  \n",
       "6221    Refrigerador   TF39     27.0      353.0  \n",
       "6222    Refrigerador  TF39S      7.0       79.0  \n",
       "6223    Refrigerador   TF55      9.0       44.0  \n",
       "6224    Refrigerador  TF55S     17.0       51.0  \n",
       "\n",
       "[6225 rows x 12 columns]"
      ]
     },
     "metadata": {},
     "output_type": "display_data"
    }
   ],
   "source": [
    "# CONFERIR TAMANHO DO DF_FINAL\n",
    "display(df_final)"
   ]
  },
  {
   "cell_type": "code",
   "execution_count": 72,
   "metadata": {},
   "outputs": [],
   "source": [
    "df_final.to_excel('Template_Final_ONEIT.xlsx', index= False)"
   ]
  }
 ],
 "metadata": {
  "kernelspec": {
   "display_name": "Python 3.9.13 64-bit",
   "language": "python",
   "name": "python3"
  },
  "language_info": {
   "codemirror_mode": {
    "name": "ipython",
    "version": 3
   },
   "file_extension": ".py",
   "mimetype": "text/x-python",
   "name": "python",
   "nbconvert_exporter": "python",
   "pygments_lexer": "ipython3",
   "version": "3.9.13"
  },
  "orig_nbformat": 4,
  "vscode": {
   "interpreter": {
    "hash": "3f87adfe6a5180f0a30c05d11533ceece4e1801d94a6f872d0bfa584051c48ab"
   }
  }
 },
 "nbformat": 4,
 "nbformat_minor": 2
}
